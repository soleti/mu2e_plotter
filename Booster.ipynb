{
 "cells": [
  {
   "cell_type": "markdown",
   "metadata": {},
   "source": [
    "# Booster trainer\n",
    "This notebook trains two different BDTs:\n",
    "- Trained with conversion electrons as signal and DIOs as background\n",
    "- Trained with conversion electrons as signal and cosmic rays as background"
   ]
  },
  {
   "cell_type": "code",
   "execution_count": 1,
   "metadata": {
    "jupyter": {
     "source_hidden": true
    }
   },
   "outputs": [],
   "source": [
    "import sys\n",
    "\n",
    "# This allows you to run on Colaboratory and load files from your Google Drive\n",
    "try:\n",
    "    from google.colab import drive\n",
    "    drive.mount(\"/content/drive\")\n",
    "    main_path = '/content/drive/My Drive/'\n",
    "except:\n",
    "    main_path = ''\n",
    "sys.path.append(main_path)"
   ]
  },
  {
   "cell_type": "code",
   "execution_count": 127,
   "metadata": {
    "jupyter": {
     "source_hidden": true
    }
   },
   "outputs": [],
   "source": [
    "from sklearn.model_selection import train_test_split\n",
    "import xgboost as xgb\n",
    "import matplotlib.pyplot as plt\n",
    "\n",
    "import uproot\n",
    "import pickle\n",
    "import booster\n",
    "# import importlib\n",
    "# importlib.reload(booster)"
   ]
  },
  {
   "cell_type": "code",
   "execution_count": 115,
   "metadata": {
    "jupyter": {
     "source_hidden": true
    }
   },
   "outputs": [],
   "source": [
    "def default_flatname(branchname, fieldname, index):\n",
    "    \"\"\"This replaces the dot in the column names with underscores\"\"\"\n",
    "    out = branchname.replace(\".\", \"_\")\n",
    "    if not isinstance(branchname, str):\n",
    "        out = branchname.decode(\"utf-8\")\n",
    "    if fieldname is not None:\n",
    "        fieldname.replace(\".\", \"_\")\n",
    "        out += \"_\" + fieldname\n",
    "    if index != ():\n",
    "        out += \"[\" + \"][\".join(str(x) for x in index) + \"]\"\n",
    "    return out"
   ]
  },
  {
   "cell_type": "code",
   "execution_count": 116,
   "metadata": {
    "jupyter": {
     "source_hidden": true
    }
   },
   "outputs": [],
   "source": [
    "def from_root_to_pandas(filename):\n",
    "    file = uproot.open(filename)\n",
    "    trkananeg = file[\"TrkAnaNeg\"][\"trkana\"]\n",
    "\n",
    "    df = trkananeg.pandas.df(flatname=default_flatname, flatten=False)\n",
    "    df[\"is_triggered\"] = (df[\"trigbits\"].values & 0x208) > 0\n",
    "    df[\"crvinfo__timeWindowStart_best\"] = [twstart[index] \n",
    "                                           if index>=0 else 0 \n",
    "                                           for index, twstart in zip(df[\"bestcrv\"], df[\"crvinfo__timeWindowStart\"])]\n",
    "    df[\"is_signal\"] = (df[\"demcgen_gen\"] == 43) | (df[\"demcgen_gen\"] == 2)\n",
    "    \n",
    "    return df\n",
    "\n",
    "\n",
    "df_mc = from_root_to_pandas(\"root_files/trkana-mc.root\")\n",
    "df_ce = from_root_to_pandas(\"root_files/ce.root\")"
   ]
  },
  {
   "cell_type": "code",
   "execution_count": 122,
   "metadata": {
    "jupyter": {
     "source_hidden": true
    }
   },
   "outputs": [],
   "source": [
    "dio_train, dio_test = train_test_split(df_mc, test_size=0.5, random_state=1990)\n",
    "ce_train, ce_test = train_test_split(df_ce, test_size=0.5, random_state=1990)\n",
    "\n",
    "samples = {'dio': (dio_train, dio_test),\n",
    "           'ce': (ce_train, ce_test)}"
   ]
  },
  {
   "cell_type": "code",
   "execution_count": 128,
   "metadata": {
    "jupyter": {
     "source_hidden": true
    }
   },
   "outputs": [
    {
     "name": "stdout",
     "output_type": "stream",
     "text": [
      "XGBoost params. ETA: 0.1, MAX_DEPTH: 10, SUBSAMPLE: 1, COLSAMPLE_BY_TREE: 1\n",
      "Training Decay-in-orbit...\n",
      "Validating...\n",
      "area under the precision-recall curve: 0.998928\n",
      "precision score: 0.989971\n",
      "recall score: 0.980470\n",
      "Training Cosmic ray...\n",
      "Validating...\n",
      "area under the precision-recall curve: 0.999955\n",
      "precision score: 0.996947\n",
      "recall score: 0.999036\n"
     ]
    },
    {
     "data": {
      "image/png": "[encoded data removed]",
      "text/plain": [
       "<Figure size 432x288 with 1 Axes>"
      ]
     },
     "metadata": {
      "needs_background": "light"
     },
     "output_type": "display_data"
    }
   ],
   "source": [
    "import importlib\n",
    "importlib.reload(booster)\n",
    "\n",
    "fig, ax = plt.subplots(1,1)\n",
    "\n",
    "my_booster = booster.Booster(samples, booster.variables, random_state=1990)\n",
    "\n",
    "for label, bkg_query in zip(booster.labels, booster.bkg_queries):\n",
    "    preds = my_booster.train_booster(ax, bkg_query)\n",
    "    \n",
    "    with open('pickles/booster_%s.pickle' % label, 'wb') as booster_file:\n",
    "        pickle.dump(preds, booster_file)\n",
    "\n",
    "    variables = booster.variables.copy()\n",
    "    variables.remove(\"is_signal\")\n",
    "\n",
    "    prediction = preds.predict(\n",
    "        xgb.DMatrix(df[variables]),\n",
    "        ntree_limit=preds.best_iteration)\n",
    "\n",
    "ax.set_ylim(0.95, 1.005)\n",
    "ax.set_yscale('log')\n",
    "ax.set_xlim(0, 0.2)\n",
    "leg = ax.legend()"
   ]
  }
 ],
 "metadata": {
  "kernelspec": {
   "display_name": "Python 3",
   "language": "python",
   "name": "python3"
  },
  "language_info": {
   "codemirror_mode": {
    "name": "ipython",
    "version": 3
   },
   "file_extension": ".py",
   "mimetype": "text/x-python",
   "name": "python",
   "nbconvert_exporter": "python",
   "pygments_lexer": "ipython3",
   "version": "3.7.4"
  }
 },
 "nbformat": 4,
 "nbformat_minor": 4
}
